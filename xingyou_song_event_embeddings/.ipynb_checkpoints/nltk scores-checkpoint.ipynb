{
 "cells": [
  {
   "cell_type": "code",
   "execution_count": 1,
   "metadata": {
    "collapsed": false,
    "deletable": true,
    "editable": true
   },
   "outputs": [],
   "source": [
    "import numpy as np\n",
    "import nltk \n",
    "import pandas as pd\n",
    "import matplotlib.pyplot as plt\n",
    "import statsmodels.api as sm\n",
    "import scipy.stats as st"
   ]
  },
  {
   "cell_type": "code",
   "execution_count": 2,
   "metadata": {
    "collapsed": false,
    "deletable": true,
    "editable": true
   },
   "outputs": [],
   "source": [
    "news_csv = pd.read_csv(\"news_data/news_reuters_10.csv\", error_bad_lines=False, header = None, names = [\"stock\", \"company\", \"date\", \"title\", \"summary\", \"type\", \"website\"])\n",
    "google_price_csv = pd.read_csv(\"price_data/GOOGL_2006-01-01_to_2017-11-01.csv\")"
   ]
  },
  {
   "cell_type": "code",
   "execution_count": 3,
   "metadata": {
    "collapsed": false,
    "deletable": true,
    "editable": true
   },
   "outputs": [],
   "source": [
    "import nltk\n",
    "from nltk.sentiment.vader import SentimentIntensityAnalyzer\n",
    "sid = SentimentIntensityAnalyzer()"
   ]
  },
  {
   "cell_type": "code",
   "execution_count": 8,
   "metadata": {
    "collapsed": false
   },
   "outputs": [
    {
     "data": {
      "text/plain": [
       "{'compound': 0.0, 'neg': 0.0, 'neu': 1.0, 'pos': 0.0}"
      ]
     },
     "execution_count": 8,
     "metadata": {},
     "output_type": "execute_result"
    }
   ],
   "source": [
    "sid.polarity_scores(\"im gay\")"
   ]
  },
  {
   "cell_type": "code",
   "execution_count": 4,
   "metadata": {
    "collapsed": true,
    "deletable": true,
    "editable": true
   },
   "outputs": [],
   "source": [
    "number_to_month = {\"01\": \"Jan\", \"02\":\"Feb\", \"03\":\"Mar\", \"04\":\"Apr\", \"05\":\"May\", \"06\": \"Jun\", \"07\":\"Jul\", \"08\":\"Aug\", \"09\":\"Sep\", \"10\":\"Oct\", \"11\":\"Nov\", \"12\":\"Dec\"}\n",
    "def conv_num_to_string(d):\n",
    "    year = d[0:4]\n",
    "    month = d[4:6]\n",
    "    day = d[6:8]\n",
    "    new = day + \"-\" + number_to_month[month] + \"-\" + year[2:4]\n",
    "    return new "
   ]
  },
  {
   "cell_type": "code",
   "execution_count": 5,
   "metadata": {
    "collapsed": true,
    "deletable": true,
    "editable": true
   },
   "outputs": [],
   "source": [
    "def up_down_ratio(stock, day_lag): #ex: sentiment_to_price_plot(\"AAPL\", 1, 'neg')\n",
    "    stock_data = news_csv[news_csv[\"stock\"] == stock]\n",
    "    stock_price_csv = pd.read_csv(\"price_data/\"+ stock+\"_2006-01-01_to_2017-11-01.csv\")\n",
    "    total = []\n",
    "    for index, row in stock_data.iterrows():\n",
    "    \n",
    "\n",
    "        day = conv_num_to_string(str(row[\"date\"]) )\n",
    "\n",
    "        if day in stock_price_csv[\"Date\"].values:\n",
    "\n",
    "            \n",
    "\n",
    "            row_index = stock_price_csv.index[stock_price_csv[\"Date\"] == day].tolist()[0]\n",
    "            next_price = stock_price_csv.iloc[row_index - day_lag  ]\n",
    "            #print next_price[\"Date\"], google_price_csv.iloc[row_index][\"Date\"]\n",
    "            diff = next_price[\"Close\"] - next_price[\"Open\"]\n",
    "            if diff >= 0.0:\n",
    "                total.append(1) \n",
    "            else:\n",
    "                total.append(0)\n",
    "    return 100*sum(total)/len(total)\n",
    "   "
   ]
  },
  {
   "cell_type": "code",
   "execution_count": 6,
   "metadata": {
    "collapsed": false,
    "deletable": true,
    "editable": true
   },
   "outputs": [],
   "source": [
    "def sentiment_to_price_plot(stock, day_lag, pos_or_neg): #ex: sentiment_to_price_plot(\"AAPL\", 1, 'neg')\n",
    "    stock_data = news_csv[news_csv[\"stock\"] == stock]\n",
    "    stock_price_csv = pd.read_csv(stock+\"_2006-01-01_to_2017-11-01.csv\")\n",
    "    temp_x = []\n",
    "    temp_y = []\n",
    "    for index, row in stock_data.iterrows():\n",
    "        ss = sid.polarity_scores(row[\"summary\"])\n",
    "        score = ss[pos_or_neg]\n",
    "\n",
    "        day = conv_num_to_string(str(row[\"date\"]) )\n",
    "\n",
    "        if day in stock_price_csv[\"Date\"].values:\n",
    "\n",
    "            temp_x.append(score)\n",
    "\n",
    "            row_index = stock_price_csv.index[stock_price_csv[\"Date\"] == day].tolist()[0]\n",
    "            next_price = stock_price_csv.iloc[row_index - day_lag  ]\n",
    "            #print next_price[\"Date\"], google_price_csv.iloc[row_index][\"Date\"]\n",
    "            diff = next_price[\"Close\"] - next_price[\"Open\"]\n",
    "            temp_y.append(diff)\n",
    "    print st.spearmanr(temp_x, temp_y)\n",
    "    plt.plot(temp_x, temp_y, \"o\")\n",
    "    plt.ylabel(\"Closing Minus Opening after\" + str(day_lag) + \"Days\")\n",
    "    plt.xlabel(pos_or_neg + \"NLTK Vader-Sentiment Score of Current Day's Summary\")\n",
    "    plt.title(stock + \",  \" + str(day_lag) + \" Day Lag,  \" + pos_or_neg)\n",
    "    plt.show()\n",
    "    "
   ]
  },
  {
   "cell_type": "code",
   "execution_count": 114,
   "metadata": {
    "collapsed": false,
    "deletable": true,
    "editable": true
   },
   "outputs": [
    {
     "name": "stdout",
     "output_type": "stream",
     "text": [
      "SpearmanrResult(correlation=-0.021974574026979377, pvalue=0.45230593789238116)\n"
     ]
    },
    {
     "data": {
      "image/png": "[encoded data removed]",
      "text/plain": [
       "<matplotlib.figure.Figure at 0x7f8d00fd1950>"
      ]
     },
     "metadata": {},
     "output_type": "display_data"
    }
   ],
   "source": [
    "sentiment_to_price_plot(\"GOOG\", 1, \"pos\")"
   ]
  },
  {
   "cell_type": "code",
   "execution_count": 17,
   "metadata": {
    "collapsed": false
   },
   "outputs": [],
   "source": [
    "def sentiment_scores_make_csv(stock, number_of_prices): \n",
    "    stock_data = news_csv[news_csv[\"stock\"] == stock]\n",
    "    stock_price_csv = pd.read_csv(\"price_data/\"+ stock+\"_2006-01-01_to_2017-11-01.csv\")\n",
    "    \n",
    "    \n",
    "    col = ['compound','neg','neu','pos','today price','y_price (next day)']\n",
    "    col = col + [ 'today-' +str(i) + 'price' for i in range(1,number_of_prices+1)  ]\n",
    "    df = pd.DataFrame(columns=col)\n",
    "    \n",
    "    counter = 0 \n",
    "    \n",
    "    for index, row in stock_data.iterrows():\n",
    "        ss = sid.polarity_scores(row[\"summary\"])\n",
    "        day = conv_num_to_string(str(row[\"date\"]) )\n",
    "        \n",
    "        if day in stock_price_csv[\"Date\"].values:\n",
    "            scores = [ss['compound'], ss['neg'], ss['neu'], ss['pos']]\n",
    "            \n",
    "            prices = []\n",
    "            \n",
    "            row_index = stock_price_csv.index[stock_price_csv[\"Date\"] == day].tolist()[0]\n",
    "            next_price = stock_price_csv.iloc[row_index - 1  ]\n",
    "            predict_closing = next_price[\"Close\"]\n",
    "            \n",
    "            prices.append(next_price[\"Open\"])\n",
    "            prices.append(next_price[\"Close\"])\n",
    "            \n",
    "            for j in range(1,number_of_prices+1):\n",
    "                temp_price = stock_price_csv.iloc[row_index + j  ]\n",
    "                prices.append(temp_price[\"Close\"])\n",
    "            \n",
    "            total_row = scores + prices\n",
    "            \n",
    "            df.loc[counter] = total_row \n",
    "            counter+=1 \n",
    "    \n",
    "    name = \"nltk_scores/\" + stock +\".csv\"\n",
    "    df.to_csv(name)\n",
    "    "
   ]
  },
  {
   "cell_type": "code",
   "execution_count": 19,
   "metadata": {
    "collapsed": false
   },
   "outputs": [],
   "source": [
    "stocks = ['GOOGL', 'INTC', 'AAPL', 'CSCO', 'AMD', 'QCOM', 'NVDA', 'AMZN', 'MSFT', 'IBM']\n",
    "\n",
    "for stk in stocks:\n",
    "    sentiment_scores_make_csv(stk, 5)"
   ]
  },
  {
   "cell_type": "code",
   "execution_count": 95,
   "metadata": {
    "collapsed": true,
    "deletable": true,
    "editable": true
   },
   "outputs": [],
   "source": [
    "def sentiment_to_volume_plot(stock, day_lag, pos_or_neg): #ex: sentiment_to_price_plot(\"AAPL\", 1, 'neg')\n",
    "    stock_data = news_csv[news_csv[\"stock\"] == stock]\n",
    "    stock_price_csv = pd.read_csv(stock+\"_2006-01-01_to_2017-11-01.csv\")\n",
    "    temp_x = []\n",
    "    temp_y = []\n",
    "    for index, row in stock_data.iterrows():\n",
    "        ss = sid.polarity_scores(row[\"summary\"])\n",
    "        score = ss[pos_or_neg]\n",
    "\n",
    "        day = conv_num_to_string(str(row[\"date\"]) )\n",
    "\n",
    "        if day in stock_price_csv[\"Date\"].values:\n",
    "\n",
    "            temp_x.append(score)\n",
    "\n",
    "            row_index = stock_price_csv.index[stock_price_csv[\"Date\"] == day].tolist()[0]\n",
    "            next_price = stock_price_csv.iloc[row_index - day_lag  ]\n",
    "            #print next_price[\"Date\"], google_price_csv.iloc[row_index][\"Date\"]\n",
    "            vol = next_price[\"Volume\"]\n",
    "            temp_y.append(vol)\n",
    "    print st.spearmanr(temp_x, temp_y)\n",
    "    plt.plot(temp_x, temp_y, \"o\")\n",
    "    plt.ylabel(\"Volume after\" + str(day_lag) + \"Days\")\n",
    "    plt.xlabel(pos_or_neg + \"NLTK Vader-Sentiment Score of Current Day's Summary\")\n",
    "    plt.title(stock + \",  \" + str(day_lag) + \" Day Lag,  \" + pos_or_neg)\n",
    "    plt.show()\n",
    "    "
   ]
  },
  {
   "cell_type": "code",
   "execution_count": 113,
   "metadata": {
    "collapsed": false,
    "deletable": true,
    "editable": true
   },
   "outputs": [
    {
     "name": "stdout",
     "output_type": "stream",
     "text": [
      "SpearmanrResult(correlation=0.059749596923595563, pvalue=0.040840925625703038)\n"
     ]
    },
    {
     "data": {
      "image/png": "[encoded data removed]",
      "text/plain": [
       "<matplotlib.figure.Figure at 0x7f8d024901d0>"
      ]
     },
     "metadata": {},
     "output_type": "display_data"
    }
   ],
   "source": [
    "sentiment_to_volume_plot(\"GOOG\", 0, 'compound')"
   ]
  },
  {
   "cell_type": "code",
   "execution_count": 6,
   "metadata": {
    "collapsed": false,
    "deletable": true,
    "editable": true
   },
   "outputs": [],
   "source": [
    "def sentiment_to_price_plot_UP_DOWN(stock, day_lag, pos_or_neg): #ex: sentiment_to_price_plot_UP_DOWN(\"AAPL\", 1, 'neg')\n",
    "    stock_data = news_csv[news_csv[\"stock\"] == stock]\n",
    "    stock_price_csv = pd.read_csv(stock+\"_2006-01-01_to_2017-11-01.csv\")\n",
    "    temp_x = []\n",
    "    temp_y = []\n",
    "    for index, row in stock_data.iterrows():\n",
    "        ss = sid.polarity_scores(row[\"summary\"])\n",
    "        score = ss[pos_or_neg]\n",
    "\n",
    "        day = conv_num_to_string(str(row[\"date\"]) )\n",
    "\n",
    "        if day in stock_price_csv[\"Date\"].values:\n",
    "\n",
    "            temp_x.append(score)\n",
    "\n",
    "            row_index = stock_price_csv.index[stock_price_csv[\"Date\"] == day].tolist()[0]\n",
    "            next_price = stock_price_csv.iloc[row_index - day_lag  ]\n",
    "            #print next_price[\"Date\"], google_price_csv.iloc[row_index][\"Date\"]\n",
    "            diff = next_price[\"Close\"] - next_price[\"Open\"]\n",
    "            if diff > 0:\n",
    "                temp_y.append(1.0)\n",
    "            else:\n",
    "                temp_y.append(-1.0)\n",
    "\n",
    "    plt.plot(temp_x, temp_y, \"o\")\n",
    "    plt.ylabel(\"Closing Minus Opening INCREASE OR DECREASE after\" + str(day_lag) + \"Days\")\n",
    "    plt.xlabel(pos_or_neg + \"NLTK Vader-Sentiment Score of Current Day's Summary\")\n",
    "    plt.title(stock + \",  \" + str(day_lag) + \" Day Lag,  \" + pos_or_neg)\n",
    "    plt.show()\n",
    "    "
   ]
  },
  {
   "cell_type": "code",
   "execution_count": 7,
   "metadata": {
    "collapsed": false,
    "deletable": true,
    "editable": true
   },
   "outputs": [
    {
     "data": {
      "image/png": "[encoded data removed]",
      "text/plain": [
       "<matplotlib.figure.Figure at 0x7f8d56c55ad0>"
      ]
     },
     "metadata": {},
     "output_type": "display_data"
    }
   ],
   "source": [
    "sentiment_to_price_plot_UP_DOWN(\"AAPL\", 1, 'neg')"
   ]
  },
  {
   "cell_type": "code",
   "execution_count": 40,
   "metadata": {
    "collapsed": false,
    "deletable": true,
    "editable": true
   },
   "outputs": [],
   "source": [
    "def granger_causality(stock, max_lag, pos_or_neg): \n",
    "    stock_data = news_csv[news_csv[\"stock\"] == stock]\n",
    "    stock_price_csv = pd.read_csv(stock+\"_2006-01-01_to_2017-11-01.csv\")\n",
    "    temp_x = []\n",
    "    temp_y = []\n",
    "    for index, row in stock_data.iterrows():\n",
    "        ss = sid.polarity_scores(row[\"summary\"])\n",
    "        score = ss[pos_or_neg]\n",
    "\n",
    "        day = conv_num_to_string(str(row[\"date\"]) )\n",
    "\n",
    "        if day in stock_price_csv[\"Date\"].values:\n",
    "\n",
    "            temp_x.append(score)\n",
    "\n",
    "            row_index = stock_price_csv.index[stock_price_csv[\"Date\"] == day].tolist()[0]\n",
    "            next_price = stock_price_csv.iloc[row_index]\n",
    "            #print next_price[\"Date\"], google_price_csv.iloc[row_index][\"Date\"]\n",
    "            mid_price = (next_price[\"Close\"] + next_price[\"Open\"])/2.0\n",
    "            temp_y.append(mid_price)\n",
    "\n",
    "#     plt.plot(temp_x)\n",
    "#     plt.plot(temp_y)\n",
    "#     plt.ylabel(\"Avg Price\")\n",
    "#     plt.xlabel(\"Time\")\n",
    "#     plt.title(stock + \" vs \" + pos_or_neg)\n",
    "#     plt.show()\n",
    "    return sm.tsa.stattools.grangercausalitytests([[temp_y[i], temp_x[i]] for i in range(len(temp_y))], maxlag = max_lag, addconst=True, verbose=True)"
   ]
  },
  {
   "cell_type": "code",
   "execution_count": 41,
   "metadata": {
    "collapsed": false,
    "deletable": true,
    "editable": true
   },
   "outputs": [
    {
     "name": "stdout",
     "output_type": "stream",
     "text": [
      "\n",
      "Granger Causality\n",
      "('number of lags (no zero)', 1)\n",
      "ssr based F test:         F=0.0210  , p=0.8849  , df_denom=1168, df_num=1\n",
      "ssr based chi2 test:   chi2=0.0210  , p=0.8847  , df=1\n",
      "likelihood ratio test: chi2=0.0210  , p=0.8847  , df=1\n",
      "parameter F test:         F=0.0210  , p=0.8849  , df_denom=1168, df_num=1\n",
      "\n",
      "Granger Causality\n",
      "('number of lags (no zero)', 2)\n",
      "ssr based F test:         F=0.0346  , p=0.9660  , df_denom=1165, df_num=2\n",
      "ssr based chi2 test:   chi2=0.0695  , p=0.9659  , df=2\n",
      "likelihood ratio test: chi2=0.0695  , p=0.9659  , df=2\n",
      "parameter F test:         F=0.0346  , p=0.9660  , df_denom=1165, df_num=2\n",
      "\n",
      "Granger Causality\n",
      "('number of lags (no zero)', 3)\n",
      "ssr based F test:         F=0.2290  , p=0.8762  , df_denom=1162, df_num=3\n",
      "ssr based chi2 test:   chi2=0.6913  , p=0.8753  , df=3\n",
      "likelihood ratio test: chi2=0.6911  , p=0.8753  , df=3\n",
      "parameter F test:         F=0.2290  , p=0.8762  , df_denom=1162, df_num=3\n",
      "\n",
      "Granger Causality\n",
      "('number of lags (no zero)', 4)\n",
      "ssr based F test:         F=0.3942  , p=0.8129  , df_denom=1159, df_num=4\n",
      "ssr based chi2 test:   chi2=1.5892  , p=0.8107  , df=4\n",
      "likelihood ratio test: chi2=1.5881  , p=0.8109  , df=4\n",
      "parameter F test:         F=0.3942  , p=0.8129  , df_denom=1159, df_num=4\n",
      "\n",
      "Granger Causality\n",
      "('number of lags (no zero)', 5)\n",
      "ssr based F test:         F=0.3145  , p=0.9044  , df_denom=1156, df_num=5\n",
      "ssr based chi2 test:   chi2=1.5877  , p=0.9027  , df=5\n",
      "likelihood ratio test: chi2=1.5866  , p=0.9029  , df=5\n",
      "parameter F test:         F=0.3145  , p=0.9044  , df_denom=1156, df_num=5\n"
     ]
    }
   ],
   "source": [
    "result = granger_causality(\"GOOG\", 5, 'pos')"
   ]
  },
  {
   "cell_type": "code",
   "execution_count": 49,
   "metadata": {
    "collapsed": false,
    "deletable": true,
    "editable": true
   },
   "outputs": [
    {
     "data": {
      "text/plain": [
       "{1: ({'lrtest': (0.021018253823967825, 0.8847292401249347, 1),\n",
       "   'params_ftest': (0.020964595036337345, 0.88490042830568649, 1168.0, 1),\n",
       "   'ssr_chi2test': (0.021018442453445682, 0.88472872648798118, 1),\n",
       "   'ssr_ftest': (0.020964595034692193, 0.88490042830992832, 1168.0, 1)},\n",
       "  [<statsmodels.regression.linear_model.RegressionResultsWrapper at 0x7f8d048272d0>,\n",
       "   <statsmodels.regression.linear_model.RegressionResultsWrapper at 0x7f8d04827c10>,\n",
       "   array([[ 0.,  1.,  0.]])]),\n",
       " 2: ({'lrtest': (0.06948480469873175, 0.96585418598410699, 2),\n",
       "   'params_ftest': (0.034594957809702974, 0.96599759874417668, 1165.0, 2),\n",
       "   'ssr_chi2test': (0.069486868046849642, 0.96585318953791255, 2),\n",
       "   'ssr_ftest': (0.034594957809649503, 0.96599759874430158, 1165.0, 2)},\n",
       "  [<statsmodels.regression.linear_model.RegressionResultsWrapper at 0x7f8d0492aed0>,\n",
       "   <statsmodels.regression.linear_model.RegressionResultsWrapper at 0x7f8d0492a810>,\n",
       "   array([[ 0.,  0.,  1.,  0.,  0.],\n",
       "          [ 0.,  0.,  0.,  1.,  0.]])]),\n",
       " 3: ({'lrtest': (0.6910776299328063, 0.87530054736263196, 3),\n",
       "   'params_ftest': (0.22904750983883956, 0.87620224217496578, 1162.0, 3),\n",
       "   'ssr_chi2test': (0.6912819423438038, 0.87525258367736658, 3),\n",
       "   'ssr_ftest': (0.22904750983846595, 0.87620224217523845, 1162.0, 3)},\n",
       "  [<statsmodels.regression.linear_model.RegressionResultsWrapper at 0x7f8d0492a490>,\n",
       "   <statsmodels.regression.linear_model.RegressionResultsWrapper at 0x7f8d0492a5d0>,\n",
       "   array([[ 0.,  0.,  0.,  1.,  0.,  0.,  0.],\n",
       "          [ 0.,  0.,  0.,  0.,  1.,  0.,  0.],\n",
       "          [ 0.,  0.,  0.,  0.,  0.,  1.,  0.]])]),\n",
       " 4: ({'lrtest': (1.5881026373263012, 0.81092885826865435, 4),\n",
       "   'params_ftest': (0.39423434120240486, 0.81287965504549664, 1159.0, 4),\n",
       "   'ssr_chi2test': (1.5891827800680756, 0.81073500282313649, 4),\n",
       "   'ssr_ftest': (0.39423434120267542, 0.8128796550452887, 1159.0, 4)},\n",
       "  [<statsmodels.regression.linear_model.RegressionResultsWrapper at 0x7f8d0492af90>,\n",
       "   <statsmodels.regression.linear_model.RegressionResultsWrapper at 0x7f8d0490e750>,\n",
       "   array([[ 0.,  0.,  0.,  0.,  1.,  0.,  0.,  0.,  0.],\n",
       "          [ 0.,  0.,  0.,  0.,  0.,  1.,  0.,  0.,  0.],\n",
       "          [ 0.,  0.,  0.,  0.,  0.,  0.,  1.,  0.,  0.],\n",
       "          [ 0.,  0.,  0.,  0.,  0.,  0.,  0.,  1.,  0.]])]),\n",
       " 5: ({'lrtest': (1.5865823297117458, 0.90286715845947607, 5),\n",
       "   'params_ftest': (0.31453924532518884, 0.90441548464785937, 1156.0, 5),\n",
       "   'ssr_chi2test': (1.5876613291292585, 0.90273741475789537, 5),\n",
       "   'ssr_ftest': (0.31453924532535099, 0.90441548464776711, 1156.0, 5)},\n",
       "  [<statsmodels.regression.linear_model.RegressionResultsWrapper at 0x7f8d0490e0d0>,\n",
       "   <statsmodels.regression.linear_model.RegressionResultsWrapper at 0x7f8d0490e510>,\n",
       "   array([[ 0.,  0.,  0.,  0.,  0.,  1.,  0.,  0.,  0.,  0.,  0.],\n",
       "          [ 0.,  0.,  0.,  0.,  0.,  0.,  1.,  0.,  0.,  0.,  0.],\n",
       "          [ 0.,  0.,  0.,  0.,  0.,  0.,  0.,  1.,  0.,  0.,  0.],\n",
       "          [ 0.,  0.,  0.,  0.,  0.,  0.,  0.,  0.,  1.,  0.,  0.],\n",
       "          [ 0.,  0.,  0.,  0.,  0.,  0.,  0.,  0.,  0.,  1.,  0.]])])}"
      ]
     },
     "execution_count": 49,
     "metadata": {},
     "output_type": "execute_result"
    }
   ],
   "source": [
    "result"
   ]
  },
  {
   "cell_type": "code",
   "execution_count": 52,
   "metadata": {
    "collapsed": false,
    "deletable": true,
    "editable": true
   },
   "outputs": [
    {
     "name": "stdout",
     "output_type": "stream",
     "text": [
      "\n",
      "Granger Causality\n",
      "('number of lags (no zero)', 1)\n",
      "ssr based F test:         F=0.0000  , p=1.0000  , df_denom=4, df_num=1\n",
      "ssr based chi2 test:   chi2=0.0000  , p=1.0000  , df=1\n",
      "likelihood ratio test: chi2=0.0000  , p=1.0000  , df=1\n",
      "parameter F test:         F=45.4683 , p=0.0025  , df_denom=4, df_num=1\n"
     ]
    },
    {
     "data": {
      "text/plain": [
       "{1: ({'lrtest': (3.5527136788005009e-15, 0.99999995244237416, 1),\n",
       "   'params_ftest': (45.46826758147516, 0.0025211364311817572, 4.0, 1),\n",
       "   'ssr_chi2test': (1.7595987560096852e-15, 0.99999996653068035, 1),\n",
       "   'ssr_ftest': (1.1730658373397901e-15, 0.99999997764825821, 4.0, 1)},\n",
       "  [<statsmodels.regression.linear_model.RegressionResultsWrapper at 0x7f8d0491abd0>,\n",
       "   <statsmodels.regression.linear_model.RegressionResultsWrapper at 0x7f8d0491aa10>,\n",
       "   array([[ 0.,  1.,  0.]])])}"
      ]
     },
     "execution_count": 52,
     "metadata": {},
     "output_type": "execute_result"
    }
   ],
   "source": [
    "sm.tsa.stattools.grangercausalitytests(x = np.array([[1,2],[2,3],[3,4], [4,5], [5,6], [7,8], [8,9]  ]), maxlag = 1, addconst=True, verbose=True)"
   ]
  }
 ],
 "metadata": {
  "kernelspec": {
   "display_name": "Python 2",
   "language": "python",
   "name": "python2"
  },
  "language_info": {
   "codemirror_mode": {
    "name": "ipython",
    "version": 2
   },
   "file_extension": ".py",
   "mimetype": "text/x-python",
   "name": "python",
   "nbconvert_exporter": "python",
   "pygments_lexer": "ipython2",
   "version": "2.7.12"
  }
 },
 "nbformat": 4,
 "nbformat_minor": 2
}
