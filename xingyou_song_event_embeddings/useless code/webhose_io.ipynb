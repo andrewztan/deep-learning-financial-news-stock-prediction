{
 "cells": [
  {
   "cell_type": "code",
   "execution_count": 2,
   "metadata": {
    "collapsed": false
   },
   "outputs": [],
   "source": [
    "import webhoseio\n",
    "webhoseio.config(token=\"d43718a6-31d3-4ae8-b4d1-663d220f74d1\")   "
   ]
  },
  {
   "cell_type": "code",
   "execution_count": 6,
   "metadata": {
    "collapsed": false
   },
   "outputs": [
    {
     "name": "stdout",
     "output_type": "stream",
     "text": [
      "It's an old meme. No matter how bad the news was they would hodl and say this is good for bitcoin. One time after a huge crash under the stickied suicide hotline post there were this is good for bitcoin memes. It's calmed down since then\n",
      "DrawsShitForYou\n"
     ]
    }
   ],
   "source": [
    "import webhoseio\n",
    "\n",
    "webhoseio.config(token=\"d43718a6-31d3-4ae8-b4d1-663d220f74d1\")\n",
    "query_params = {\n",
    "\"q\": \"bitcoin language:english\",\n",
    "\"sort\": \"crawled\"\n",
    "}\n",
    "output = webhoseio.query(\"filterWebContent\", query_params)\n",
    "print output['posts'][0]['text'] # Print the text of the first post\n",
    "#print output['posts'][0]['published'] # Print the text of the first post publication date\n",
    "print output['posts'][0]['author']\n",
    "\n",
    "# Get the next batch of posts\n",
    "\n",
    "#output = webhoseio.get_next()\n",
    "\n",
    "\n",
    "# Print the site of the first post\n",
    "\n",
    "#print output['posts'][0]['thread']['site']"
   ]
  },
  {
   "cell_type": "code",
   "execution_count": 9,
   "metadata": {
    "collapsed": false
   },
   "outputs": [
    {
     "name": "stdout",
     "output_type": "stream",
     "text": [
      "BitClave Merges Pre-ICO with Full Sale Round as User Volume Peaks Bitcoin Price Technical Analysis for 11/09/2017 – Pop Higher on Hard Fork Suspension Posted on 5:26 am November 9, 2017 Author Sarah Jenn Categories Analysis , Bitcoin , Uncategorized Tags bitcoin price , bitcoin signals , bitcoin tarding , bitcoin technical analysis , btcusd price Bitcoin price popped higher on reports that the network update will be suspended but settled back inside its ascending channel. Bitcoin price enjoyed additional volatility on news that the hard fork will be suspended. Price popped up to new highs at $7900 before quickly retreating. The ascending channel marked earlier is still intact, which means that bullish momentum is still present. \n",
      "Bitcoin price popped higher on reports that the network update will be suspended but settled back inside its ascending channel. \n",
      "Technical Indicators Signals \n",
      "The 100 SMA is still above the longer-term 200 SMA so the path of least resistance is to the upside, but the gap between the two is narrowing to reflect weaker bullish momentum. \n",
      "If a downward crossover materializes, bearish momentum could kick in and lead to a break below the channel support at $7000. Stochastic is pulling up to show that buyers are in control, but RSI is turning lower so bitcoin price could follow suit. \n",
      "Market Factors \n",
      "Suspending the hard fork removed the uncertainty lingering over bitcoin price in the near-term, but traders are still wary of how this might impact the cryptocurrency’s capacity in the long run. Besides, the need for an upgrade or hard fork could come up again soon. \n",
      "Proponents of the rival version reportedly suspended their plans to create a parallel version of the digital currency this week. In an email regarding SegWit2x: \n",
      "Although we strongly believe in the need for a larger blocksize, there is something we believe is even more important: keeping the community together. Unfortunately, it is clear that we have not built sufficient consensus fora clean blocksize upgrade at this time. \n",
      "The email went on to explain that dividing the community would be a setback to bitcoin growth. With that: \n",
      "As fees rise on the blockchain, we believe it will eventually become obvious that on-chain capacity increases are necessary. When that happens, we hope the community will come together and find a solution, possibly with a blocksize increase. Until then, we are suspending our plans for the upcoming 2MB upgrade. TRADE NOW : Want to trade Bitcoin? Join Now! Disclaimer: The information contained herein is not guaranteed, does not purport to be comprehensive and is strictly for information purposes only. It should not be regarded as investment/trading advice. All the information is believed to come from reliable sources. NewsBTC does not warrant the accuracy, correctness, or completeness of information in its analysis and therefore will not be liable for any loss incurred. Published by Sarah Jenn Sarah has been involved in the cryptocurrency space since the very beginning. Having stumbled across well hidden discussions in early forums she immersed herself in the industry, and is now a leading author and consultant for a range of bitcoin companies. She loves DASH and mathematics. View all posts by Sarah Jenn NEWSBTC - EDITOR'S PICKS \n"
     ]
    }
   ],
   "source": [
    "import webhoseio\n",
    "\n",
    "webhoseio.config(token=\"d43718a6-31d3-4ae8-b4d1-663d220f74d1\")\n",
    "query_params = {\n",
    "\"q\": \"bitcoin language:english site_type:news\",\n",
    "\"sort\": \"crawled\"\n",
    "}\n",
    "output = webhoseio.query(\"filterWebContent\", query_params)\n",
    "print output['posts'][1]['text'] # Print the text of the first post\n",
    "#print output['posts'][0]['published'] # Print the text of the first post publication date\n",
    "\n",
    "\n",
    "# Get the next batch of posts\n",
    "\n",
    "#output = webhoseio.get_next()\n",
    "\n",
    "\n",
    "# Print the site of the first post\n",
    "\n",
    "#print output['posts'][0]['thread']['site']"
   ]
  },
  {
   "cell_type": "code",
   "execution_count": 10,
   "metadata": {
    "collapsed": false
   },
   "outputs": [
    {
     "name": "stdout",
     "output_type": "stream",
     "text": [
      "Hackers are targeting schools, U.S. Department of Education warns by Selena Larson @selenalarson October 18, 2017: 10:51 PM ET How to protect yourself from hackers When Superintendent Steve Bradshaw first received a threatening text message in mid-September, he didn't know it was coming from a hacker trying to exploit his Montana school district. But soon, students and other schools around Flathead County were receiving threatening messages, too. More than 30 schools in the district shutdown for three days. \"The messages weren't pleasant messages,\" Bradshaw said. \"They were 'splatter kids' blood in the hallways,' and things like that.\" \n",
      "The U.S. Department of Education is now warning teachers, parents, and K-12 education staff of a cyberthreat targeting school districts across the country. \n",
      "So far, at least three states have been targeted by the extortion attempt from hackers asking schools to give them money or the group will release stolen private records, according to the department. \n",
      "\"In some cases, this has included threats of violence, shaming, or bullying the children unless payment is received,\" the department wrote in an advisory this week. \n",
      "Bradshaw, the superintendent of schools in Columbia Falls, Montana said a hacking group broke into multiple school servers and stole personal information on students and possibly staff. He said after the threatening messages came, hackers asked for ransom. \n",
      "In a ransom note sent to a number of Columbia Falls school district members and released by the county's sheriff's department, the hacking group called the Dark Overlord threatened the district and demanded up to $150,000 in bitcoin to destroy the stolen private data. \n",
      "The threatening letter talked about use of force, mentioned the name \"Sandy Hook,\" the elementary school in Connecticut where 20 small children and six adults were shot dead, and said victims would suffer financial and reputational damage. \n",
      "Law enforcement said they did not believe the threats and determined the attackers were located outside of the U.S. \n",
      "\"We feel this is important to allow our community to understand that the threats were not real, and were simply a tactic used by the cyber extortionists to facilitate their demand for money,\" the Flathead County Sheriff's Office said in a Facebook post last month. \n",
      "Bradshaw said the district is not paying the ransom, and he is still receiving threatening messages. \n",
      "Related: The U.S. Army is teaching kids how to hack at DEF CON \n",
      "The same hackers also targeted the Johnson Community School District in Iowa earlier this month, and the district canceled all classes on October 3. According to local media reports , the hackers also sent threatening text messages to children and their parents. \n",
      "The hacking group previously attempted to extort Netflix ( NFLX , Tech30 ) after hacking its production studio, Larson Studios. The group released episodes of Orange is the New Black online last spring. \n",
      "It's unclear why the Dark Overlord began targeting schools but someone from the hacking group told the Daily Beast they are \"escalating the intensity of our strategy in response to the FBI's persistence in persuading clients away from us.\" \n",
      "The Department of Education says the hackers are probably targeting districts \"with weak data security, or well-known vulnerabilities that enable the attackers to gain access to sensitive data.\" It advises districts to conduct security audits and patch vulnerable systems, train staff on data security best practices, and review sensitive data to make sure no outside actors can access it. \n",
      "According to Mary Kavaney, the chief operating officer of the Global Cyber Alliance, school environments often don't have a lot of technology resources dedicated to security, but have some of the richest personal information on people, including social security numbers, birth dates, and, potentially, medical and financial information. \n",
      "\"If bad actors can access student [personal data], that information can be exploited for the purpose of fraud and committing crimes for years before it is detected,\" Kavaney says. \"It's often only upon application for a job, or application for financial aid to attend college that students find out that their social security number has been used fraudulently -- they may have poor credit due to false applications against their history, or worse, find that crime has been committed in their name.\" \n",
      "Bradshaw says the ordeal has been stressful and troubling. Because the district hasn't paid the hackers, they're still threatening to release the data online. But, he said, the response from law enforcement and the Flathead County community has been positive. \n",
      "\"We still got people in this country that believe in one another, and it's been easier to get through than you would have thought,\" Bradshaw said. \"People care about people in this state.\" CNNMoney (San Francisco) First published October 18, 2017: 5:10 PM ET \n"
     ]
    }
   ],
   "source": [
    "\n",
    "import webhoseio\n",
    "\n",
    "webhoseio.config(token=\"d43718a6-31d3-4ae8-b4d1-663d220f74d1\")\n",
    "query_params = {\n",
    "\"q\": \"bitcoin language:english site_type:news site:cnn.com\",\n",
    "\"ts\": \"1507865667865\",\n",
    "\"sort\": \"crawled\"\n",
    "}\n",
    "output = webhoseio.query(\"filterWebContent\", query_params)\n",
    "print output['posts'][0]['text'] # Print the text of the first post\n",
    "#print output['posts'][0]['published'] # Print the text of the first post publication date\n",
    "\n",
    "\n",
    "# Get the next batch of posts\n",
    "\n",
    "#output = webhoseio.get_next()\n",
    "\n",
    "\n",
    "# Print the site of the first post\n",
    "\n",
    "#print output['posts'][0]['thread']['site']"
   ]
  }
 ],
 "metadata": {
  "kernelspec": {
   "display_name": "Python 2",
   "language": "python",
   "name": "python2"
  },
  "language_info": {
   "codemirror_mode": {
    "name": "ipython",
    "version": 2
   },
   "file_extension": ".py",
   "mimetype": "text/x-python",
   "name": "python",
   "nbconvert_exporter": "python",
   "pygments_lexer": "ipython2",
   "version": "2.7.12"
  }
 },
 "nbformat": 4,
 "nbformat_minor": 2
}
